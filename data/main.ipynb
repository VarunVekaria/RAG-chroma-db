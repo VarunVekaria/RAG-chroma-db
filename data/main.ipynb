{
 "cells": [
  {
   "cell_type": "code",
   "execution_count": 2,
   "metadata": {
    "id": "Hf7weiuwkZpU"
   },
   "outputs": [],
   "source": [
    "import random\n",
    "import math\n",
    "import numpy as np\n",
    "import csv\n",
    "from collections import deque\n",
    "\n"
   ]
  },
  {
   "cell_type": "markdown",
   "metadata": {
    "id": "uU44gGjogRC-"
   },
   "source": [
    "Inputing data and label data"
   ]
  },
  {
   "cell_type": "code",
   "execution_count": 1,
   "metadata": {
    "colab": {
     "base_uri": "https://localhost:8080/"
    },
    "id": "_bO6VPwXgSgD",
    "outputId": "1cded481-2680-49d9-f652-694bdcb8951d"
   },
   "outputs": [
    {
     "name": "stdout",
     "output_type": "stream",
     "text": [
      "Bot Location: (24, 6)\n",
      "Rat Location: (3, 27)\n",
      "Final moves taken:56\n",
      "Bot Location: (10, 22)\n",
      "Rat Location: (28, 23)\n",
      "Final moves taken:74\n",
      "Bot Location: (7, 3)\n",
      "Rat Location: (23, 25)\n",
      "Final moves taken:42\n",
      "Bot Location: (5, 1)\n",
      "Rat Location: (13, 25)\n",
      "Final moves taken:80\n",
      "Bot Location: (1, 13)\n",
      "Rat Location: (14, 19)\n",
      "Final moves taken:43\n",
      "Bot Location: (28, 19)\n",
      "Rat Location: (7, 13)\n",
      "Final moves taken:23\n",
      "Bot Location: (21, 19)\n",
      "Rat Location: (21, 1)\n",
      "Final moves taken:47\n",
      "Bot Location: (26, 7)\n",
      "Rat Location: (24, 6)\n",
      "Final moves taken:65\n",
      "Bot Location: (1, 27)\n",
      "Rat Location: (7, 20)\n",
      "Final moves taken:55\n",
      "Bot Location: (22, 10)\n",
      "Rat Location: (27, 6)\n",
      "Final moves taken:35\n",
      "Bot Location: (14, 22)\n",
      "Rat Location: (23, 10)\n",
      "Final moves taken:46\n",
      "Bot Location: (8, 6)\n",
      "Rat Location: (8, 18)\n",
      "Final moves taken:73\n",
      "Bot Location: (1, 23)\n",
      "Rat Location: (6, 26)\n",
      "Final moves taken:48\n",
      "Bot Location: (21, 17)\n",
      "Rat Location: (9, 6)\n",
      "Final moves taken:45\n",
      "Bot Location: (15, 28)\n",
      "Rat Location: (14, 25)\n",
      "Final moves taken:98\n",
      "Bot Location: (24, 11)\n",
      "Rat Location: (3, 17)\n",
      "Final moves taken:73\n",
      "Bot Location: (12, 3)\n",
      "Rat Location: (18, 8)\n",
      "Final moves taken:75\n",
      "Bot Location: (12, 21)\n",
      "Rat Location: (25, 11)\n",
      "Final moves taken:39\n",
      "Bot Location: (11, 21)\n",
      "Rat Location: (9, 16)\n",
      "Final moves taken:33\n",
      "Bot Location: (8, 8)\n",
      "Rat Location: (18, 22)\n",
      "Final moves taken:46\n",
      "Bot Location: (20, 20)\n",
      "Rat Location: (23, 28)\n",
      "Final moves taken:56\n",
      "Bot Location: (1, 3)\n",
      "Rat Location: (18, 12)\n",
      "Final moves taken:86\n",
      "Bot Location: (28, 14)\n",
      "Rat Location: (8, 13)\n",
      "Final moves taken:20\n",
      "Bot Location: (28, 13)\n",
      "Rat Location: (28, 2)\n",
      "Final moves taken:42\n",
      "Bot Location: (21, 8)\n",
      "Rat Location: (10, 7)\n",
      "Final moves taken:87\n",
      "Bot Location: (7, 25)\n",
      "Rat Location: (10, 4)\n",
      "Final moves taken:99\n",
      "Bot Location: (16, 6)\n",
      "Rat Location: (8, 9)\n",
      "Final moves taken:170\n",
      "Bot Location: (15, 4)\n",
      "Rat Location: (11, 18)\n",
      "Final moves taken:72\n",
      "Bot Location: (2, 12)\n",
      "Rat Location: (21, 15)\n",
      "Final moves taken:89\n",
      "Bot Location: (28, 25)\n",
      "Rat Location: (23, 13)\n",
      "Final moves taken:81\n",
      "Bot Location: (7, 24)\n",
      "Rat Location: (28, 3)\n",
      "Final moves taken:74\n",
      "Bot Location: (17, 16)\n",
      "Rat Location: (21, 10)\n",
      "Final moves taken:57\n",
      "Bot Location: (22, 12)\n",
      "Rat Location: (9, 13)\n",
      "Final moves taken:40\n",
      "Bot Location: (19, 17)\n",
      "Rat Location: (17, 18)\n",
      "Final moves taken:104\n",
      "Bot Location: (4, 9)\n",
      "Rat Location: (6, 23)\n",
      "Final moves taken:115\n",
      "Bot Location: (2, 16)\n",
      "Rat Location: (5, 27)\n",
      "Final moves taken:41\n",
      "Bot Location: (24, 4)\n",
      "Rat Location: (20, 26)\n",
      "Final moves taken:163\n",
      "Bot Location: (12, 24)\n",
      "Rat Location: (3, 1)\n",
      "Final moves taken:71\n",
      "Bot Location: (1, 4)\n",
      "Rat Location: (26, 12)\n",
      "Final moves taken:107\n",
      "Bot Location: (14, 5)\n",
      "Rat Location: (26, 26)\n",
      "Final moves taken:59\n",
      "Bot Location: (23, 11)\n",
      "Rat Location: (9, 6)\n",
      "Final moves taken:33\n",
      "Bot Location: (4, 20)\n",
      "Rat Location: (4, 2)\n",
      "Final moves taken:50\n",
      "Bot Location: (27, 28)\n",
      "Rat Location: (17, 6)\n",
      "Final moves taken:137\n",
      "Bot Location: (12, 16)\n",
      "Rat Location: (8, 17)\n",
      "Final moves taken:62\n",
      "Bot Location: (6, 1)\n",
      "Rat Location: (4, 22)\n",
      "Final moves taken:108\n",
      "Bot Location: (7, 19)\n",
      "Rat Location: (3, 25)\n",
      "Final moves taken:21\n",
      "Bot Location: (10, 17)\n",
      "Rat Location: (13, 1)\n",
      "Final moves taken:80\n",
      "Bot Location: (20, 10)\n",
      "Rat Location: (18, 11)\n",
      "Final moves taken:34\n",
      "Bot Location: (16, 5)\n",
      "Rat Location: (19, 14)\n",
      "Final moves taken:166\n",
      "Bot Location: (9, 22)\n",
      "Rat Location: (22, 28)\n",
      "Final moves taken:60\n",
      "Bot Location: (21, 20)\n",
      "Rat Location: (24, 18)\n",
      "Final moves taken:81\n",
      "Bot Location: (4, 4)\n",
      "Rat Location: (6, 20)\n",
      "Final moves taken:27\n",
      "Bot Location: (17, 15)\n",
      "Rat Location: (4, 11)\n",
      "Final moves taken:64\n",
      "Bot Location: (6, 5)\n",
      "Rat Location: (15, 13)\n",
      "Final moves taken:78\n",
      "Bot Location: (25, 2)\n",
      "Rat Location: (10, 5)\n",
      "Final moves taken:80\n",
      "Bot Location: (26, 28)\n",
      "Rat Location: (12, 3)\n",
      "Final moves taken:79\n",
      "Bot Location: (18, 6)\n",
      "Rat Location: (28, 21)\n",
      "Final moves taken:72\n",
      "Bot Location: (8, 3)\n",
      "Rat Location: (9, 5)\n",
      "Final moves taken:23\n",
      "Bot Location: (15, 4)\n",
      "Rat Location: (19, 1)\n",
      "Final moves taken:65\n",
      "Bot Location: (27, 26)\n",
      "Rat Location: (4, 9)\n",
      "Final moves taken:81\n",
      "Bot Location: (11, 28)\n",
      "Rat Location: (16, 12)\n",
      "Final moves taken:50\n",
      "Bot Location: (13, 1)\n",
      "Rat Location: (7, 28)\n",
      "Final moves taken:80\n",
      "Bot Location: (6, 5)\n",
      "Rat Location: (17, 25)\n",
      "Final moves taken:74\n",
      "Bot Location: (12, 10)\n",
      "Rat Location: (16, 19)\n",
      "Final moves taken:95\n",
      "Bot Location: (22, 13)\n",
      "Rat Location: (24, 25)\n",
      "Final moves taken:37\n",
      "Bot Location: (24, 25)\n",
      "Rat Location: (20, 14)\n",
      "Final moves taken:80\n",
      "Bot Location: (1, 14)\n",
      "Rat Location: (1, 7)\n",
      "Final moves taken:68\n",
      "Bot Location: (4, 26)\n",
      "Rat Location: (3, 11)\n",
      "Final moves taken:47\n",
      "Bot Location: (4, 12)\n",
      "Rat Location: (2, 17)\n",
      "Final moves taken:59\n",
      "Bot Location: (25, 28)\n",
      "Rat Location: (28, 27)\n",
      "Final moves taken:31\n",
      "Bot Location: (4, 17)\n",
      "Rat Location: (21, 5)\n",
      "Final moves taken:110\n",
      "Bot Location: (13, 12)\n",
      "Rat Location: (17, 9)\n",
      "Final moves taken:32\n",
      "Bot Location: (24, 22)\n",
      "Rat Location: (21, 7)\n",
      "Final moves taken:68\n",
      "Bot Location: (8, 22)\n",
      "Rat Location: (10, 16)\n",
      "Final moves taken:120\n",
      "Bot Location: (25, 1)\n",
      "Rat Location: (9, 22)\n",
      "Final moves taken:57\n",
      "Bot Location: (1, 5)\n",
      "Rat Location: (11, 11)\n",
      "Final moves taken:18\n",
      "Bot Location: (23, 19)\n",
      "Rat Location: (5, 12)\n",
      "Final moves taken:79\n",
      "Bot Location: (6, 18)\n",
      "Rat Location: (20, 12)\n",
      "Final moves taken:88\n",
      "Bot Location: (8, 13)\n",
      "Rat Location: (3, 17)\n",
      "Final moves taken:90\n",
      "Bot Location: (8, 16)\n",
      "Rat Location: (25, 3)\n",
      "Final moves taken:75\n",
      "Bot Location: (6, 13)\n",
      "Rat Location: (19, 23)\n",
      "Final moves taken:83\n",
      "Bot Location: (24, 2)\n",
      "Rat Location: (3, 9)\n",
      "Final moves taken:60\n",
      "Bot Location: (2, 15)\n",
      "Rat Location: (11, 26)\n",
      "Final moves taken:80\n",
      "Bot Location: (12, 26)\n",
      "Rat Location: (21, 17)\n",
      "Final moves taken:64\n",
      "Bot Location: (17, 12)\n",
      "Rat Location: (11, 28)\n",
      "Final moves taken:83\n",
      "Bot Location: (10, 12)\n",
      "Rat Location: (1, 14)\n",
      "Final moves taken:37\n",
      "Bot Location: (10, 5)\n",
      "Rat Location: (27, 5)\n",
      "Final moves taken:64\n",
      "Bot Location: (13, 26)\n",
      "Rat Location: (26, 14)\n",
      "Final moves taken:113\n",
      "Bot Location: (3, 20)\n",
      "Rat Location: (14, 15)\n",
      "Final moves taken:57\n",
      "Bot Location: (18, 15)\n",
      "Rat Location: (22, 21)\n",
      "Final moves taken:56\n",
      "Bot Location: (4, 19)\n",
      "Rat Location: (8, 11)\n",
      "Final moves taken:34\n",
      "Bot Location: (18, 5)\n",
      "Rat Location: (15, 4)\n",
      "Final moves taken:55\n",
      "Bot Location: (7, 10)\n",
      "Rat Location: (22, 28)\n",
      "Final moves taken:149\n",
      "Bot Location: (10, 7)\n",
      "Rat Location: (9, 6)\n",
      "Final moves taken:42\n",
      "Bot Location: (7, 5)\n",
      "Rat Location: (19, 11)\n",
      "Final moves taken:79\n",
      "Bot Location: (12, 25)\n",
      "Rat Location: (16, 3)\n",
      "Final moves taken:72\n",
      "Bot Location: (1, 16)\n",
      "Rat Location: (20, 27)\n",
      "Final moves taken:45\n",
      "Bot Location: (21, 16)\n",
      "Rat Location: (19, 3)\n",
      "Final moves taken:61\n",
      "Bot Location: (12, 9)\n",
      "Rat Location: (22, 3)\n",
      "Final moves taken:72\n",
      "Bot Location: (22, 6)\n",
      "Rat Location: (19, 21)\n",
      "Final moves taken:73\n",
      "Input Shape: (100, 30, 30, 2)\n",
      "Labels Shape: (100,)\n"
     ]
    }
   ],
   "source": [
    "import numpy as np\n",
    "from simulation import Simulation\n",
    "X = []  # inout probability grid\n",
    "y = []  # number of moves\n",
    "GRID_SIZE = 30\n",
    "for _ in range(100):  \n",
    "    simulation = Simulation()\n",
    "    bot_knowledge_base_grid, probabilities_grid, moves = simulation.run()\n",
    "\n",
    "    probabilities_grid = np.array(probabilities_grid, dtype=np.float32)\n",
    "    bot_knowledge_base_grid = np.array(bot_knowledge_base_grid, dtype=np.float32)\n",
    "\n",
    "    # Stack the grids along the channel dimension\n",
    "    combined_input = np.stack([probabilities_grid, bot_knowledge_base_grid], axis=-1)\n",
    "\n",
    "    X.append(combined_input)\n",
    "    y.append(moves)\n",
    "\n",
    "# Convert to NumPy arrays\n",
    "X = np.array(X)  # Shape: (num_samples, GRID_SIZE, GRID_SIZE, 2)\n",
    "y = np.array(y)\n",
    "\n",
    "print(\"Input Shape:\", X.shape)  # Should be (num_samples, GRID_SIZE, GRID_SIZE, 2)\n",
    "print(\"Labels Shape:\", y.shape)  # Should be (num_samples,)\n"
   ]
  },
  {
   "cell_type": "markdown",
   "metadata": {
    "id": "1YvaA_FliqbX"
   },
   "source": [
    "Create / build the NN, Train the model"
   ]
  },
  {
   "cell_type": "code",
   "execution_count": 5,
   "metadata": {
    "colab": {
     "base_uri": "https://localhost:8080/",
     "height": 1000
    },
    "id": "DD92cTFDsKyI",
    "outputId": "fdab3939-56f8-4faa-aae5-3a1576b056ef"
   },
   "outputs": [
    {
     "name": "stdout",
     "output_type": "stream",
     "text": [
      "Epoch 1/20\n",
      "\u001b[1m3/3\u001b[0m \u001b[32m━━━━━━━━━━━━━━━━━━━━\u001b[0m\u001b[37m\u001b[0m \u001b[1m3s\u001b[0m 174ms/step - loss: 1.7214 - mae: 0.2589 - val_loss: 1.5194 - val_mae: 0.1394\n",
      "Epoch 2/20\n",
      "\u001b[1m3/3\u001b[0m \u001b[32m━━━━━━━━━━━━━━━━━━━━\u001b[0m\u001b[37m\u001b[0m \u001b[1m0s\u001b[0m 44ms/step - loss: 1.4745 - mae: 0.1330 - val_loss: 1.3102 - val_mae: 0.1305\n",
      "Epoch 3/20\n",
      "\u001b[1m3/3\u001b[0m \u001b[32m━━━━━━━━━━━━━━━━━━━━\u001b[0m\u001b[37m\u001b[0m \u001b[1m0s\u001b[0m 48ms/step - loss: 1.2674 - mae: 0.1174 - val_loss: 1.1286 - val_mae: 0.1666\n",
      "Epoch 4/20\n",
      "\u001b[1m3/3\u001b[0m \u001b[32m━━━━━━━━━━━━━━━━━━━━\u001b[0m\u001b[37m\u001b[0m \u001b[1m0s\u001b[0m 46ms/step - loss: 1.0825 - mae: 0.1162 - val_loss: 0.9621 - val_mae: 0.1746\n",
      "Epoch 5/20\n",
      "\u001b[1m3/3\u001b[0m \u001b[32m━━━━━━━━━━━━━━━━━━━━\u001b[0m\u001b[37m\u001b[0m \u001b[1m0s\u001b[0m 45ms/step - loss: 0.9184 - mae: 0.1106 - val_loss: 0.8093 - val_mae: 0.1469\n",
      "Epoch 6/20\n",
      "\u001b[1m3/3\u001b[0m \u001b[32m━━━━━━━━━━━━━━━━━━━━\u001b[0m\u001b[37m\u001b[0m \u001b[1m0s\u001b[0m 49ms/step - loss: 0.7744 - mae: 0.1092 - val_loss: 0.6778 - val_mae: 0.1279\n",
      "Epoch 7/20\n",
      "\u001b[1m3/3\u001b[0m \u001b[32m━━━━━━━━━━━━━━━━━━━━\u001b[0m\u001b[37m\u001b[0m \u001b[1m0s\u001b[0m 45ms/step - loss: 0.6485 - mae: 0.1101 - val_loss: 0.5696 - val_mae: 0.1365\n",
      "Epoch 8/20\n",
      "\u001b[1m3/3\u001b[0m \u001b[32m━━━━━━━━━━━━━━━━━━━━\u001b[0m\u001b[37m\u001b[0m \u001b[1m0s\u001b[0m 44ms/step - loss: 0.5399 - mae: 0.0990 - val_loss: 0.4757 - val_mae: 0.1333\n",
      "Epoch 9/20\n",
      "\u001b[1m3/3\u001b[0m \u001b[32m━━━━━━━━━━━━━━━━━━━━\u001b[0m\u001b[37m\u001b[0m \u001b[1m0s\u001b[0m 44ms/step - loss: 0.4505 - mae: 0.1046 - val_loss: 0.3954 - val_mae: 0.1234\n",
      "Epoch 10/20\n",
      "\u001b[1m3/3\u001b[0m \u001b[32m━━━━━━━━━━━━━━━━━━━━\u001b[0m\u001b[37m\u001b[0m \u001b[1m0s\u001b[0m 39ms/step - loss: 0.3743 - mae: 0.1038 - val_loss: 0.3296 - val_mae: 0.1229\n",
      "Epoch 11/20\n",
      "\u001b[1m3/3\u001b[0m \u001b[32m━━━━━━━━━━━━━━━━━━━━\u001b[0m\u001b[37m\u001b[0m \u001b[1m0s\u001b[0m 44ms/step - loss: 0.3108 - mae: 0.1067 - val_loss: 0.2741 - val_mae: 0.1159\n",
      "Epoch 12/20\n",
      "\u001b[1m3/3\u001b[0m \u001b[32m━━━━━━━━━━━━━━━━━━━━\u001b[0m\u001b[37m\u001b[0m \u001b[1m0s\u001b[0m 60ms/step - loss: 0.2566 - mae: 0.0988 - val_loss: 0.2303 - val_mae: 0.1220\n",
      "Epoch 13/20\n",
      "\u001b[1m3/3\u001b[0m \u001b[32m━━━━━━━━━━━━━━━━━━━━\u001b[0m\u001b[37m\u001b[0m \u001b[1m0s\u001b[0m 44ms/step - loss: 0.2137 - mae: 0.0945 - val_loss: 0.1913 - val_mae: 0.1095\n",
      "Epoch 14/20\n",
      "\u001b[1m3/3\u001b[0m \u001b[32m━━━━━━━━━━━━━━━━━━━━\u001b[0m\u001b[37m\u001b[0m \u001b[1m0s\u001b[0m 49ms/step - loss: 0.1775 - mae: 0.1000 - val_loss: 0.1612 - val_mae: 0.1098\n",
      "Epoch 15/20\n",
      "\u001b[1m3/3\u001b[0m \u001b[32m━━━━━━━━━━━━━━━━━━━━\u001b[0m\u001b[37m\u001b[0m \u001b[1m0s\u001b[0m 43ms/step - loss: 0.1461 - mae: 0.0868 - val_loss: 0.1368 - val_mae: 0.1103\n",
      "Epoch 16/20\n",
      "\u001b[1m3/3\u001b[0m \u001b[32m━━━━━━━━━━━━━━━━━━━━\u001b[0m\u001b[37m\u001b[0m \u001b[1m0s\u001b[0m 44ms/step - loss: 0.1242 - mae: 0.0943 - val_loss: 0.1155 - val_mae: 0.1080\n",
      "Epoch 17/20\n",
      "\u001b[1m3/3\u001b[0m \u001b[32m━━━━━━━━━━━━━━━━━━━━\u001b[0m\u001b[37m\u001b[0m \u001b[1m0s\u001b[0m 45ms/step - loss: 0.1051 - mae: 0.0993 - val_loss: 0.1015 - val_mae: 0.1146\n",
      "Epoch 18/20\n",
      "\u001b[1m3/3\u001b[0m \u001b[32m━━━━━━━━━━━━━━━━━━━━\u001b[0m\u001b[37m\u001b[0m \u001b[1m0s\u001b[0m 50ms/step - loss: 0.0895 - mae: 0.0937 - val_loss: 0.0874 - val_mae: 0.1104\n",
      "Epoch 19/20\n",
      "\u001b[1m3/3\u001b[0m \u001b[32m━━━━━━━━━━━━━━━━━━━━\u001b[0m\u001b[37m\u001b[0m \u001b[1m0s\u001b[0m 44ms/step - loss: 0.0756 - mae: 0.0917 - val_loss: 0.0761 - val_mae: 0.1099\n",
      "Epoch 20/20\n",
      "\u001b[1m3/3\u001b[0m \u001b[32m━━━━━━━━━━━━━━━━━━━━\u001b[0m\u001b[37m\u001b[0m \u001b[1m0s\u001b[0m 44ms/step - loss: 0.0655 - mae: 0.0930 - val_loss: 0.0657 - val_mae: 0.1113\n",
      "\u001b[1m1/1\u001b[0m \u001b[32m━━━━━━━━━━━━━━━━━━━━\u001b[0m\u001b[37m\u001b[0m \u001b[1m0s\u001b[0m 29ms/step - loss: 0.0657 - mae: 0.1113\n",
      "Validation Loss: 0.06565167009830475\n",
      "Validation Mean Absolute Error: 0.11132298409938812\n",
      "\u001b[1m1/1\u001b[0m \u001b[32m━━━━━━━━━━━━━━━━━━━━\u001b[0m\u001b[37m\u001b[0m \u001b[1m0s\u001b[0m 73ms/step\n"
     ]
    },
    {
     "data": {
      "image/png": "[encoded data removed]",
      "text/plain": [
       "<Figure size 640x480 with 1 Axes>"
      ]
     },
     "metadata": {},
     "output_type": "display_data"
    }
   ],
   "source": [
    "import tensorflow as tf\n",
    "from tensorflow.keras import layers, models\n",
    "from sklearn.model_selection import train_test_split\n",
    "import numpy as np\n",
    "import matplotlib.pyplot as plt\n",
    "\n",
    "y_max = y.max()\n",
    "y_normalized = y / y_max\n",
    "\n",
    "# splitting the data for testing and training \n",
    "X_train, X_val, y_train, y_val = train_test_split(X, y_normalized, test_size=0.2, random_state=42)\n",
    "\n",
    "model = models.Sequential([\n",
    "    layers.Input(shape=(GRID_SIZE, GRID_SIZE, 2)),\n",
    "    layers.Conv2D(32, (3, 3), activation='relu', kernel_regularizer=tf.keras.regularizers.l2(0.01)), #basic features are captujred\n",
    "    layers.MaxPooling2D((2, 2)), \n",
    "    layers.Dropout(0.50), #avoiding overfitting\n",
    "    layers.Conv2D(64, (3, 3), activation='relu', kernel_regularizer=tf.keras.regularizers.l2(0.01)),\n",
    "    layers.MaxPooling2D((2, 2)),\n",
    "    layers.Dropout(0.5),\n",
    "    layers.Flatten(),\n",
    "    layers.Dense(64, activation='relu', kernel_regularizer=tf.keras.regularizers.l2(0.01)),\n",
    "    layers.Dense(1, activation='linear')\n",
    "])\n",
    "\n",
    "\n",
    "lr_schedule = tf.keras.optimizers.schedules.ExponentialDecay(\n",
    "    initial_learning_rate=0.001,\n",
    "    decay_steps=1000,\n",
    "    decay_rate=0.9\n",
    ")\n",
    "\n",
    "#adam optimizer and huber loss functions are used here\n",
    "model.compile(optimizer=tf.keras.optimizers.Adam(learning_rate=lr_schedule), loss='huber', metrics=['mae'])\n",
    "\n",
    "# Training the model with validation data\n",
    "history = model.fit(\n",
    "    X_train, y_train,\n",
    "    epochs=20,\n",
    "    batch_size=32,\n",
    "    validation_data=(X_val, y_val)\n",
    ")\n",
    "\n",
    "#evaluating model \n",
    "val_loss, val_mae = model.evaluate(X_val, y_val)\n",
    "print(\"Validation Loss:\", val_loss)\n",
    "print(\"Validation Mean Absolute Error:\", val_mae)\n",
    "\n",
    "#predicted vs actual plot\n",
    "predictions = model.predict(X_val) * y_max  \n",
    "actuals = y_val * y_max \n",
    "\n",
    "plt.scatter(actuals, predictions)\n",
    "plt.xlabel('Actual')\n",
    "plt.ylabel('Predicted')\n",
    "plt.title('Predicted vs Actual Number of Moves')\n",
    "plt.show()\n"
   ]
  },
  {
   "cell_type": "markdown",
   "metadata": {
    "id": "O__5CTZnixff"
   },
   "source": [
    "Evaluating the model"
   ]
  },
  {
   "cell_type": "code",
   "execution_count": 6,
   "metadata": {
    "colab": {
     "base_uri": "https://localhost:8080/"
    },
    "id": "ULu1gR5gizIh",
    "outputId": "840fbbd5-0f32-400a-c893-dc7f4e1ee2dd"
   },
   "outputs": [
    {
     "name": "stdout",
     "output_type": "stream",
     "text": [
      "\u001b[1m1/1\u001b[0m \u001b[32m━━━━━━━━━━━━━━━━━━━━\u001b[0m\u001b[37m\u001b[0m \u001b[1m0s\u001b[0m 34ms/step - loss: 0.0657 - mae: 0.1113\n",
      "Validation Loss: 0.06565167009830475, Validation MAE: 0.11132298409938812\n"
     ]
    }
   ],
   "source": [
    "val_loss, val_mae = model.evaluate(X_val, y_val)\n",
    "print(f\"Validation Loss: {val_loss}, Validation MAE: {val_mae}\")\n"
   ]
  },
  {
   "cell_type": "markdown",
   "metadata": {
    "id": "MrBbLkq7i3vu"
   },
   "source": [
    "Visualise training"
   ]
  },
  {
   "cell_type": "code",
   "execution_count": 7,
   "metadata": {
    "colab": {
     "base_uri": "https://localhost:8080/",
     "height": 472
    },
    "id": "sj3HnSr4i5b3",
    "outputId": "29e163d0-7882-47ab-8758-bfbf41e00e52"
   },
   "outputs": [
    {
     "data": {
      "image/png": "[encoded data removed]",
      "text/plain": [
       "<Figure size 640x480 with 1 Axes>"
      ]
     },
     "metadata": {},
     "output_type": "display_data"
    }
   ],
   "source": [
    "import matplotlib.pyplot as plt\n",
    "\n",
    "# Plot loss over epochs\n",
    "plt.plot(history.history['loss'], label='Training Loss')\n",
    "plt.plot(history.history['val_loss'], label='Validation Loss')\n",
    "plt.legend()\n",
    "plt.title('Loss over Epochs')\n",
    "plt.xlabel('Epochs')\n",
    "plt.ylabel('Loss')\n",
    "plt.show()\n"
   ]
  },
  {
   "cell_type": "markdown",
   "metadata": {
    "id": "mmVHenIsi-h4"
   },
   "source": [
    "Make predictions"
   ]
  },
  {
   "cell_type": "code",
   "execution_count": 8,
   "metadata": {
    "colab": {
     "base_uri": "https://localhost:8080/"
    },
    "id": "OWtIxOLdjAbw",
    "outputId": "9460ef5e-d0dd-48bc-e4d7-e55b37fa6346"
   },
   "outputs": [
    {
     "name": "stdout",
     "output_type": "stream",
     "text": [
      "Bot Location: (21, 7)\n",
      "Rat Location: (18, 23)\n",
      "Final moves taken:73\n",
      "\u001b[1m1/1\u001b[0m \u001b[32m━━━━━━━━━━━━━━━━━━━━\u001b[0m\u001b[37m\u001b[0m \u001b[1m0s\u001b[0m 68ms/step\n",
      "Predicted Moves: 79.26\n",
      "Actual Moves: 73\n"
     ]
    }
   ],
   "source": [
    "# Simulate a new run\n",
    "simulation = Simulation()\n",
    "bot_knowledge_base_grid, probabilities_grid, actual_moves = simulation.run()\n",
    "\n",
    "# Prepare the input for prediction\n",
    "probabilities_grid = np.array(probabilities_grid, dtype=np.float32)\n",
    "bot_knowledge_base_grid = np.array(bot_knowledge_base_grid, dtype=np.float32)\n",
    "\n",
    "# Stack the inputs along the channel dimension\n",
    "test_input = np.stack([probabilities_grid, bot_knowledge_base_grid], axis=-1).reshape(1, GRID_SIZE, GRID_SIZE, 2)\n",
    "\n",
    "# Predict the number of moves\n",
    "predicted_moves = model.predict(test_input) * y_max  # Scale back the prediction\n",
    "print(f\"Predicted Moves: {predicted_moves[0][0]:.2f}\")\n",
    "print(f\"Actual Moves: {actual_moves}\")\n"
   ]
  },
  {
   "cell_type": "markdown",
   "metadata": {
    "id": "0jVoFj94jF4r"
   },
   "source": [
    "save the model"
   ]
  },
  {
   "cell_type": "code",
   "execution_count": 9,
   "metadata": {
    "id": "UTncG3IHjHcK"
   },
   "outputs": [],
   "source": [
    "model.save('rat_bot_model.keras')\n"
   ]
  },
  {
   "cell_type": "markdown",
   "metadata": {
    "id": "zqeSnG4OjPdw"
   },
   "source": [
    "using saved model"
   ]
  },
  {
   "cell_type": "code",
   "execution_count": null,
   "metadata": {
    "colab": {
     "base_uri": "https://localhost:8080/"
    },
    "id": "w6qyENpKjRKX",
    "outputId": "564338c6-f757-4113-e8ba-e0f68576c128"
   },
   "outputs": [
    {
     "name": "stderr",
     "output_type": "stream",
     "text": [
      "WARNING:tensorflow:6 out of the last 6 calls to <function TensorFlowTrainer.make_predict_function.<locals>.one_step_on_data_distributed at 0x7f83316a9510> triggered tf.function retracing. Tracing is expensive and the excessive number of tracings could be due to (1) creating @tf.function repeatedly in a loop, (2) passing tensors with different shapes, (3) passing Python objects instead of tensors. For (1), please define your @tf.function outside of the loop. For (2), @tf.function has reduce_retracing=True option that can avoid unnecessary retracing. For (3), please refer to https://www.tensorflow.org/guide/function#controlling_retracing and https://www.tensorflow.org/api_docs/python/tf/function for  more details.\n"
     ]
    },
    {
     "name": "stdout",
     "output_type": "stream",
     "text": [
      "\u001b[1m1/1\u001b[0m \u001b[32m━━━━━━━━━━━━━━━━━━━━\u001b[0m\u001b[37m\u001b[0m \u001b[1m0s\u001b[0m 72ms/step\n",
      "Predicted Moves (Loaded Model): 64.64\n"
     ]
    }
   ],
   "source": [
    "\n",
    "loaded_model = tf.keras.models.load_model('rat_bot_model.keras')\n",
    "predicted_moves_loaded = loaded_model.predict(test_input)\n",
    "print(f\"Predicted Moves (Loaded Model): {predicted_moves_loaded[0][0]:.2f}\")\n"
   ]
  }
 ],
 "metadata": {
  "colab": {
   "provenance": []
  },
  "kernelspec": {
   "display_name": "Python 3 (ipykernel)",
   "language": "python",
   "name": "python3"
  },
  "language_info": {
   "codemirror_mode": {
    "name": "ipython",
    "version": 3
   },
   "file_extension": ".py",
   "mimetype": "text/x-python",
   "name": "python",
   "nbconvert_exporter": "python",
   "pygments_lexer": "ipython3",
   "version": "3.12.6"
  }
 },
 "nbformat": 4,
 "nbformat_minor": 4
}
